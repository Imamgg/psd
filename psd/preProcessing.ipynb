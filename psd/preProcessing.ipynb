{
 "cells": [
  {
   "cell_type": "markdown",
   "id": "d11141fa",
   "metadata": {},
   "source": [
    "# Preprocessing\n",
    "\n",
    "Tahapan ini berisi proses preprocessing data time series NO2, termasuk penanganan missing values, pembuatan lag features, dan transformasi data menjadi format supervised learning."
   ]
  },
  {
   "cell_type": "markdown",
   "id": "ea4d15a9",
   "metadata": {},
   "source": [
    "## 1. Import Library dan Load Data\n",
    "\n",
    "Import library yang diperlukan untuk preprocessing data dan load dataset time series NO2."
   ]
  },
  {
   "cell_type": "code",
   "execution_count": 4,
   "id": "5d5d0974",
   "metadata": {},
   "outputs": [
    {
     "name": "stdout",
     "output_type": "stream",
     "text": [
      "Preview Data:\n",
      "            t  NO2\n",
      "0  2021-01-01  NaN\n",
      "1  2021-01-01  NaN\n",
      "2  2021-01-01  NaN\n",
      "3  2021-01-01  NaN\n",
      "4  2021-01-02  NaN\n",
      "\n",
      "Info Data Awal:\n",
      "<class 'pandas.core.frame.DataFrame'>\n",
      "RangeIndex: 6916 entries, 0 to 6915\n",
      "Data columns (total 2 columns):\n",
      " #   Column  Non-Null Count  Dtype  \n",
      "---  ------  --------------  -----  \n",
      " 0   t       6916 non-null   object \n",
      " 1   NO2     3610 non-null   float64\n",
      "dtypes: float64(1), object(1)\n",
      "memory usage: 108.2+ KB\n",
      "None\n",
      "\n",
      "Shape dataset: (6916, 2)\n",
      "Kolom dataset: ['t', 'NO2']\n"
     ]
    }
   ],
   "source": [
    "import pandas as pd\n",
    "import numpy as np\n",
    "import matplotlib.pyplot as plt\n",
    "from scipy import stats\n",
    "\n",
    "df = pd.read_csv(\"./dataset/NO2_sampang.csv\")\n",
    "\n",
    "print(\"Preview Data:\")\n",
    "print(df.head())\n",
    "\n",
    "print(\"\\nInfo Data Awal:\")\n",
    "print(df.info())\n",
    "\n",
    "print(f\"\\nShape dataset: {df.shape}\")\n",
    "print(f\"Kolom dataset: {df.columns.tolist()}\")"
   ]
  },
  {
   "cell_type": "markdown",
   "id": "df012bcc",
   "metadata": {},
   "source": [
    "## 2. Konversi Tanggal dan Sorting Data\n",
    "\n",
    "Mengubah kolom tanggal menjadi tipe datetime dan mengurutkan data berdasarkan waktu untuk memastikan urutan time series yang benar."
   ]
  },
  {
   "cell_type": "code",
   "execution_count": 6,
   "id": "366d82e8",
   "metadata": {},
   "outputs": [
    {
     "name": "stdout",
     "output_type": "stream",
     "text": [
      "Data setelah konversi datetime:\n",
      "           t  NO2\n",
      "0 2021-01-01  NaN\n",
      "1 2021-01-01  NaN\n",
      "2 2021-01-01  NaN\n",
      "3 2021-01-01  NaN\n",
      "4 2021-01-02  NaN\n",
      "Rentang tanggal: 2021-01-01 00:00:00 sampai 2025-10-18 00:00:00\n"
     ]
    }
   ],
   "source": [
    "from sklearn.neighbors import KNeighborsRegressor\n",
    "from sklearn.model_selection import train_test_split\n",
    "from sklearn.metrics import mean_squared_error, mean_absolute_error, r2_score\n",
    "from sklearn.preprocessing import MinMaxScaler\n",
    "\n",
    "df[\"t\"] = pd.to_datetime(df[\"t\"], format=\"%Y-%m-%d\")\n",
    "df = df.sort_values(\"t\").reset_index(drop=True)\n",
    "\n",
    "print(\"Data setelah konversi datetime:\")\n",
    "print(df.head())\n",
    "print(f\"Rentang tanggal: {df['t'].min()} sampai {df['t'].max()}\")"
   ]
  },
  {
   "cell_type": "markdown",
   "id": "3e3631e5",
   "metadata": {},
   "source": [
    "## 3. Handling Missing Values\n",
    "\n",
    "Mengidentifikasi missing values dalam dataset dan melakukan interpolasi linier untuk mengisi nilai yang hilang. Data hasil preprocessing disimpan ke file baru."
   ]
  },
  {
   "cell_type": "code",
   "execution_count": 7,
   "id": "c67d06ed",
   "metadata": {},
   "outputs": [
    {
     "name": "stdout",
     "output_type": "stream",
     "text": [
      "Missing values sebelum preprocessing:\n",
      "t         0\n",
      "NO2    3306\n",
      "dtype: int64\n",
      "\n",
      "Persentase missing values:\n",
      "NO2: 47.80%\n",
      "\n",
      "Melakukan interpolasi linier untuk missing values...\n",
      "Interpolasi kolom NO2: 3306 missing values\n",
      "\n",
      "Missing values setelah interpolasi:\n",
      "t      0\n",
      "NO2    0\n",
      "dtype: int64\n",
      "\n",
      "Data berhasil diproses dan disimpan ke: ./dataset/NO2_sampang_preprocessed.csv\n",
      "Shape data asli: (6916, 2)\n",
      "Shape data processed: (6916, 2)\n"
     ]
    },
    {
     "name": "stderr",
     "output_type": "stream",
     "text": [
      "C:\\Users\\ideapad\\AppData\\Local\\Temp\\ipykernel_19572\\1798629372.py:24: FutureWarning: Series.fillna with 'method' is deprecated and will raise in a future version. Use obj.ffill() or obj.bfill() instead.\n",
      "  df_processed[col] = df_processed[col].fillna(method='ffill').fillna(method='bfill')\n"
     ]
    }
   ],
   "source": [
    "print(\"Missing values sebelum preprocessing:\")\n",
    "missing_before = df.isnull().sum()\n",
    "print(missing_before)\n",
    "\n",
    "missing_percent = (df.isnull().sum() / len(df)) * 100\n",
    "print(\"\\nPersentase missing values:\")\n",
    "for col, percent in missing_percent.items():\n",
    "    if percent > 0:\n",
    "        print(f\"{col}: {percent:.2f}%\")\n",
    "\n",
    "if df.isnull().sum().sum() > 0:\n",
    "    print(\"\\nMelakukan interpolasi linier untuk missing values...\")\n",
    "    \n",
    "    df_processed = df.copy()\n",
    "    \n",
    "    numeric_columns = df_processed.select_dtypes(include=[np.number]).columns\n",
    "    \n",
    "    for col in numeric_columns:\n",
    "        if df_processed[col].isnull().sum() > 0:\n",
    "            print(f\"Interpolasi kolom {col}: {df_processed[col].isnull().sum()} missing values\")\n",
    "            \n",
    "            df_processed[col] = df_processed[col].interpolate(method='linear')\n",
    "            \n",
    "            df_processed[col] = df_processed[col].fillna(method='ffill').fillna(method='bfill')\n",
    "    \n",
    "    print(\"\\nMissing values setelah interpolasi:\")\n",
    "    missing_after = df_processed.isnull().sum()\n",
    "    print(missing_after)\n",
    "\n",
    "    output_filename = \"./dataset/NO2_sampang_preprocessed.csv\"\n",
    "    df_processed.to_csv(output_filename, index=False)\n",
    "    \n",
    "    print(f\"\\nData berhasil diproses dan disimpan ke: {output_filename}\")\n",
    "    print(f\"Shape data asli: {df.shape}\")\n",
    "    print(f\"Shape data processed: {df_processed.shape}\")"
   ]
  },
  {
   "cell_type": "markdown",
   "id": "eda6a894",
   "metadata": {},
   "source": [
    "## 4. Pembuatan Supervised Data dengan Lag Features\n",
    "\n",
    "Mengubah data time series menjadi format supervised learning dengan membuat lag features (nilai-nilai pada hari sebelumnya) dan menambahkan fitur temporal seperti year, month, day, dan representasi siklik."
   ]
  },
  {
   "cell_type": "markdown",
   "id": "d3fb88d0",
   "metadata": {},
   "source": [
    "### Fungsi Create Supervised Data\n",
    "\n",
    "Fungsi ini membuat lag features dengan menggeser nilai target sebanyak n_lags hari ke belakang, serta menambahkan fitur temporal:\n",
    "- **Lag features**: Nilai NO2 pada hari-hari sebelumnya\n",
    "- **Fitur temporal**: year, month, day, dayofweek, dayofyear\n",
    "- **Fitur siklik**: sin dan cos untuk month dan day (menangkap sifat siklik waktu)"
   ]
  },
  {
   "cell_type": "code",
   "execution_count": 9,
   "id": "604f3649",
   "metadata": {},
   "outputs": [
    {
     "name": "stdout",
     "output_type": "stream",
     "text": [
      "Menggunakan data preprocessed...\n",
      "Kolom target: NO2\n",
      "\n",
      "MEMBUAT SUPERVISED DATA DENGAN 4 LAG\n",
      "Membuat 4 lag features untuk prediksi...\n",
      "Shape supervised data: (6912, 15)\n",
      "Features yang dibuat: 4 lag features + 8 temporal features\n",
      "Features (X) shape: (6912, 13)\n",
      "Target (y) shape: (6912,)\n",
      "Feature columns: ['t-1', 't-2', 't-3', 't-4', 'year', 'month', 'day', 'dayofweek', 'dayofyear', 'month_sin', 'month_cos', 'day_sin', 'day_cos']\n",
      "Supervised data disimpan ke: ./dataset/supervised_data_lag_4.csv\n",
      "\n",
      "Contoh supervised data (5 baris pertama):\n",
      "           t       t-1       t-2       t-3       t-4  year       NO2\n",
      "0 2021-01-02  0.000034  0.000034  0.000034  0.000034  2021  0.000034\n",
      "1 2021-01-02  0.000034  0.000034  0.000034  0.000034  2021  0.000034\n",
      "2 2021-01-02  0.000034  0.000034  0.000034  0.000034  2021  0.000034\n",
      "3 2021-01-02  0.000034  0.000034  0.000034  0.000034  2021  0.000034\n",
      "4 2021-01-03  0.000034  0.000034  0.000034  0.000034  2021  0.000034\n",
      "\n",
      "MEMBUAT SUPERVISED DATA DENGAN 30 LAG\n",
      "Membuat 30 lag features untuk prediksi...\n",
      "Shape supervised data: (6886, 41)\n",
      "Features yang dibuat: 30 lag features + 8 temporal features\n",
      "Features (X) shape: (6886, 39)\n",
      "Target (y) shape: (6886,)\n",
      "Feature columns: ['t-1', 't-2', 't-3', 't-4', 't-5', 't-6', 't-7', 't-8', 't-9', 't-10', 't-11', 't-12', 't-13', 't-14', 't-15', 't-16', 't-17', 't-18', 't-19', 't-20', 't-21', 't-22', 't-23', 't-24', 't-25', 't-26', 't-27', 't-28', 't-29', 't-30', 'year', 'month', 'day', 'dayofweek', 'dayofyear', 'month_sin', 'month_cos', 'day_sin', 'day_cos']\n",
      "Supervised data disimpan ke: ./dataset/supervised_data_lag_30.csv\n",
      "\n",
      "Contoh supervised data (5 baris pertama):\n",
      "           t       t-1       t-2       t-3       t-4       t-5       NO2\n",
      "0 2021-01-08  0.000038  0.000045  0.000034  0.000034  0.000043  0.000032\n",
      "1 2021-01-08  0.000032  0.000038  0.000045  0.000034  0.000034  0.000026\n",
      "2 2021-01-09  0.000026  0.000032  0.000038  0.000045  0.000034  0.000020\n",
      "3 2021-01-09  0.000020  0.000026  0.000032  0.000038  0.000045  0.000013\n",
      "4 2021-01-09  0.000013  0.000020  0.000026  0.000032  0.000038  0.000013\n",
      "\n",
      "File yang dibuat:\n",
      "- supervised_data_lag_4.csv\n",
      "- supervised_data_lag_30.csv\n"
     ]
    }
   ],
   "source": [
    "def create_supervised_data(data, n_lags=7, target_col='NO2_mean'):\n",
    "    df_supervised = data.copy()\n",
    "    \n",
    "    df_supervised = df_supervised.sort_values('t').reset_index(drop=True)\n",
    "    \n",
    "    print(f\"Membuat {n_lags} lag features untuk prediksi...\")\n",
    "    \n",
    "    for i in range(1, n_lags + 1):\n",
    "        df_supervised[f't-{i}'] = df_supervised[target_col].shift(i)\n",
    "    \n",
    "    df_supervised['year'] = df_supervised['t'].dt.year\n",
    "    df_supervised['month'] = df_supervised['t'].dt.month\n",
    "    df_supervised['day'] = df_supervised['t'].dt.day\n",
    "    df_supervised['dayofweek'] = df_supervised['t'].dt.dayofweek\n",
    "    df_supervised['dayofyear'] = df_supervised['t'].dt.dayofyear\n",
    "    \n",
    "    df_supervised['month_sin'] = np.sin(2 * np.pi * df_supervised['month'] / 12)\n",
    "    df_supervised['month_cos'] = np.cos(2 * np.pi * df_supervised['month'] / 12)\n",
    "    df_supervised['day_sin'] = np.sin(2 * np.pi * df_supervised['day'] / 31)\n",
    "    df_supervised['day_cos'] = np.cos(2 * np.pi * df_supervised['day'] / 31)\n",
    "    \n",
    "    df_supervised = df_supervised.dropna().reset_index(drop=True)\n",
    "    \n",
    "    return df_supervised\n",
    "\n",
    "\n",
    "df_clean = pd.read_csv(\"./dataset/NO2_sampang_preprocessed.csv\")\n",
    "df_clean['t'] = pd.to_datetime(df_clean['t'])\n",
    "print(\"Menggunakan data preprocessed...\")\n",
    "\n",
    "target_columns = [col for col in df_clean.columns if 'NO2' in col.upper() or 'no2' in col]\n",
    "if target_columns:\n",
    "    target_col = target_columns[0]\n",
    "    print(f\"Kolom target: {target_col}\")\n",
    "else:\n",
    "    numeric_cols = df_clean.select_dtypes(include=[np.number]).columns\n",
    "    target_col = numeric_cols[0] if len(numeric_cols) > 0 else 'value'\n",
    "    print(f\"Kolom target (otomatis): {target_col}\")\n",
    "\n",
    "lag_options = [4, 30]\n",
    "for n_lags in lag_options:\n",
    "    print(f\"\\nMEMBUAT SUPERVISED DATA DENGAN {n_lags} LAG\")\n",
    "\n",
    "    df_supervised = create_supervised_data(df_clean, n_lags=n_lags, target_col=target_col)\n",
    "\n",
    "    print(f\"Shape supervised data: {df_supervised.shape}\")\n",
    "    print(f\"Features yang dibuat: {n_lags} lag features + 8 temporal features\")\n",
    "\n",
    "    feature_cols = [col for col in df_supervised.columns \n",
    "                   if col not in ['t', target_col] and not col.startswith('Unnamed')]\n",
    "\n",
    "    X = df_supervised[feature_cols]\n",
    "    y = df_supervised[target_col]\n",
    "\n",
    "    print(f\"Features (X) shape: {X.shape}\")\n",
    "    print(f\"Target (y) shape: {y.shape}\")\n",
    "    print(f\"Feature columns: {feature_cols}\")\n",
    "\n",
    "    output_filename = f\"./dataset/supervised_data_lag_{n_lags}.csv\"\n",
    "    df_supervised.to_csv(output_filename, index=False)\n",
    "    print(f\"Supervised data disimpan ke: {output_filename}\")\n",
    "\n",
    "    print(f\"\\nContoh supervised data (5 baris pertama):\")\n",
    "    print(df_supervised[['t'] + feature_cols[:5] + [target_col]].head())\n",
    "\n",
    "print(\"\\nFile yang dibuat:\")\n",
    "for n_lags in lag_options:\n",
    "    print(f\"- supervised_data_lag_{n_lags}.csv\")"
   ]
  }
 ],
 "metadata": {
  "kernelspec": {
   "display_name": "psd",
   "language": "python",
   "name": "python3"
  },
  "language_info": {
   "codemirror_mode": {
    "name": "ipython",
    "version": 3
   },
   "file_extension": ".py",
   "mimetype": "text/x-python",
   "name": "python",
   "nbconvert_exporter": "python",
   "pygments_lexer": "ipython3",
   "version": "3.11.13"
  }
 },
 "nbformat": 4,
 "nbformat_minor": 5
}
