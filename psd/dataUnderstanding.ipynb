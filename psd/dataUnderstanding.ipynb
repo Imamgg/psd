{
 "cells": [
  {
   "cell_type": "markdown",
   "metadata": {
    "id": "HIMEeGO3Uj0U"
   },
   "source": [
    "# Data Understanding\n",
    "\n",
    "**Data Understanding** adalah fase di mana Anda melakukan investigasi awal terhadap data untuk membiasakan diri, mengidentifikasi masalah kualitas, menemukan wawasan pertama, dan/atau membentuk hipotesis. Fase ini adalah jembatan krusial antara tujuan bisnis yang abstrak dengan persiapan data teknis.\n",
    "\n",
    "---\n",
    "## Deskripsi Dataset\n",
    "Dataset **Coffee Sales** berisi catatan transaksi penjualan kopi dari mesin penjual otomatis, mencakup informasi tanggal dan waktu pembelian, jenis kopi, metode pembayaran, serta jumlah uang yang dibayarkan. Sumber: [Coffee Sales Dataset](https://www.kaggle.com/datasets/navjotkaushal/coffee-sales-dataset)\n",
    "\n",
    "## 1. Struktur Dataset\n",
    "\n",
    "* **Jumlah baris:** 3.547\n",
    "* **Jumlah kolom:** 11\n",
    "* **Nama kolom:**\n",
    "  `hour_of_day`, `cash_type`, `money`, `coffee_name`, `Time_of_Day`, `Weekday`, `Month_name`, `Weekdaysort`, `Monthsort`, `Date`, `Time`.\n",
    "\n",
    "## 2. Tipe Data dan Contoh Nilai\n",
    "\n",
    "| Kolom         | Tipe Data | Contoh Nilai           | Catatan Peran               |\n",
    "| ------------- | --------- | ---------------------- | --------------------------- |\n",
    "| `hour_of_day` | integer   | 10, 12, 13, 18         | Jam transaksi (numeric)     |\n",
    "| `cash_type`   | object    | \"card\"                 | Semua transaksi pakai kartu |\n",
    "| `money`       | float     | 38.7, 28.9, 32.8       | Nilai transaksi / harga     |\n",
    "| `coffee_name` | object    | \"Latte\", \"Americano\"   | Nama produk                 |\n",
    "| `Time_of_Day` | object    | \"Morning\", \"Afternoon\" | Waktu (kategori)            |\n",
    "| `Weekday`     | object    | \"Mon\", \"Tue\", \"Fri\"    | Hari transaksi              |\n",
    "| `Month_name`  | object    | \"Jan\", \"Feb\", \"Mar\"    | Bulan transaksi             |\n",
    "| `Weekdaysort` | integer   | 1–7                    | Urutan hari (1=Senin, dst)  |\n",
    "| `Monthsort`   | integer   | 1–12                   | Urutan bulan                |\n",
    "| `Date`        | object    | \"2024-03-01\"           | Tanggal transaksi           |\n",
    "| `Time`        | object    | \"10:15:50.520000\"      | Jam transaksi detail        |\n",
    "\n",
    "## 3. Kualitas Data\n",
    "\n",
    "* **Missing values:** Tidak ada (semua kolom 0% missing).\n",
    "* **Duplikasi:** Tidak ditemukan baris duplikat persis.\n",
    "* **Konsistensi:**\n",
    "\n",
    "  * `cash_type` hanya berisi `\"card\"` → berarti tidak ada variasi metode pembayaran.\n",
    "  * `Date` mencakup 381 hari unik → data > 1 tahun.\n",
    "  * `Time` unik untuk tiap baris → kemungkinan representasi waktu transaksi yang presisi.\n",
    "\n",
    "## 4. Statistik Univariat\n",
    "\n",
    "### Numerik\n",
    "\n",
    "* `hour_of_day` → rentang 6–22, rata-rata **14 (jam 2 siang)**.\n",
    "* `money` → rentang 18.12–38.7, rata-rata **31.6** (mungkin harga menu).\n",
    "* `Weekdaysort` → 1–7, distribusi merata.\n",
    "* `Monthsort` → 1–12, data mencakup sepanjang tahun.\n",
    "\n",
    "### Kategorikal\n",
    "\n",
    "* `cash_type` → hanya `\"card\"` (1 kategori).\n",
    "* `coffee_name` → 8 kategori, yang terbanyak **\"Americano with Milk\" (809 transaksi)**.\n",
    "* `Time_of_Day` → 3 kategori, terbanyak **Afternoon (1.205 transaksi)**.\n",
    "* `Weekday` → 7 kategori, terbanyak **Tuesday (572 transaksi)**.\n",
    "* `Month_name` → 12 kategori, terbanyak **March (494 transaksi)**."
   ]
  }
 ],
 "metadata": {
  "colab": {
   "authorship_tag": "ABX9TyPa8n2xU5likxPkP8T3eTJm",
   "provenance": []
  },
  "kernelspec": {
   "display_name": "psd",
   "language": "python",
   "name": "python3"
  },
  "language_info": {
   "name": "python",
   "version": "3.11.13"
  }
 },
 "nbformat": 4,
 "nbformat_minor": 0
}
