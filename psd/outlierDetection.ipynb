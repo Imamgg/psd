{
 "cells": [
  {
   "cell_type": "markdown",
   "id": "32a42d1e",
   "metadata": {},
   "source": [
    "# Outlier Detection\n",
    "## Koneksi Ke Database"
   ]
  },
  {
   "cell_type": "code",
   "execution_count": 50,
   "id": "112e670b",
   "metadata": {},
   "outputs": [
    {
     "name": "stdout",
     "output_type": "stream",
     "text": [
      "Columns: ['Id', 'SepalLengthCm', 'SepalWidthCm', 'PetalLengthCm', 'PetalWidthCm', 'Species']\n",
      "   Id  SepalLengthCm  SepalWidthCm  PetalLengthCm  PetalWidthCm      Species\n",
      "0   1            5.1           3.5            1.4           0.2  Iris-setosa\n",
      "1   2            4.9           3.0            1.4           0.2  Iris-setosa\n",
      "2   3            4.7           3.2            1.3           0.2  Iris-setosa\n",
      "3   4            4.6           3.1            1.5           0.2  Iris-setosa\n",
      "4   5            5.0           3.6            1.4           0.2  Iris-setosa\n"
     ]
    }
   ],
   "source": [
    "import pandas as pd\n",
    "import pymysql \n",
    "import numpy as np\n",
    "import matplotlib.pyplot as plt\n",
    "import seaborn as sns\n",
    "from pycaret.anomaly import *\n",
    "\n",
    "# Koneksi ke database MySQL\n",
    "conn = pymysql.connect(\n",
    "    user=\"root\",\n",
    "    password=\"\",\n",
    "    host=\"127.0.0.1\",\n",
    "    port=3306,\n",
    "    db=\"psd\",\n",
    ")\n",
    "\n",
    "# Load data dari database\n",
    "df = pd.read_sql(\"SELECT * FROM psd.Iris\", conn)\n",
    "print(f\"Columns: {list(df.columns)}\")\n",
    "print(df.head())"
   ]
  },
  {
   "cell_type": "markdown",
   "id": "021fe651",
   "metadata": {},
   "source": [
    "## Persiapan data untuk outlier detection\n",
    "Hapus kolom Id dan Species untuk fokus pada fitur numerik"
   ]
  },
  {
   "cell_type": "code",
   "execution_count": 51,
   "id": "fabf7989",
   "metadata": {},
   "outputs": [
    {
     "name": "stdout",
     "output_type": "stream",
     "text": [
      "Dataset untuk outlier detection (hanya fitur numerik):\n",
      "Shape: (150, 4)\n",
      "Columns: ['SepalLengthCm', 'SepalWidthCm', 'PetalLengthCm', 'PetalWidthCm']\n",
      "\n",
      "Info dataset:\n",
      "<class 'pandas.core.frame.DataFrame'>\n",
      "RangeIndex: 150 entries, 0 to 149\n",
      "Data columns (total 4 columns):\n",
      " #   Column         Non-Null Count  Dtype  \n",
      "---  ------         --------------  -----  \n",
      " 0   SepalLengthCm  150 non-null    float64\n",
      " 1   SepalWidthCm   150 non-null    float64\n",
      " 2   PetalLengthCm  150 non-null    float64\n",
      " 3   PetalWidthCm   150 non-null    float64\n",
      "dtypes: float64(4)\n",
      "memory usage: 4.8 KB\n",
      "None\n",
      "\n",
      "Statistik deskriptif:\n",
      "       SepalLengthCm  SepalWidthCm  PetalLengthCm  PetalWidthCm\n",
      "count     150.000000    150.000000     150.000000    150.000000\n",
      "mean        5.843333      3.054000       3.758667      1.198667\n",
      "std         0.828066      0.433594       1.764420      0.763161\n",
      "min         4.300000      2.000000       1.000000      0.100000\n",
      "25%         5.100000      2.800000       1.600000      0.300000\n",
      "50%         5.800000      3.000000       4.350000      1.300000\n",
      "75%         6.400000      3.300000       5.100000      1.800000\n",
      "max         7.900000      4.400000       6.900000      2.500000\n"
     ]
    }
   ],
   "source": [
    "df_numeric = df.drop(['Id', 'Species'], axis=1)\n",
    "print(\"Dataset untuk outlier detection (hanya fitur numerik):\")\n",
    "print(f\"Shape: {df_numeric.shape}\")\n",
    "print(f\"Columns: {list(df_numeric.columns)}\")\n",
    "print(\"\\nInfo dataset:\")\n",
    "print(df_numeric.info())\n",
    "print(\"\\nStatistik deskriptif:\")\n",
    "print(df_numeric.describe())"
   ]
  },
  {
   "cell_type": "markdown",
   "id": "f53347d4",
   "metadata": {},
   "source": [
    "## Setup PyCaret untuk Anomaly Detection"
   ]
  },
  {
   "cell_type": "code",
   "execution_count": 52,
   "id": "2b37fecf",
   "metadata": {},
   "outputs": [
    {
     "name": "stdout",
     "output_type": "stream",
     "text": [
      "Setting up PyCaret for Anomaly Detection...\n",
      "Setup berhasil!\n"
     ]
    }
   ],
   "source": [
    "print(\"Setting up PyCaret for Anomaly Detection...\")\n",
    "anomaly_setup = setup(df_numeric, session_id=123, verbose=False)\n",
    "print(\"Setup berhasil!\")"
   ]
  },
  {
   "cell_type": "markdown",
   "id": "021e0204",
   "metadata": {},
   "source": [
    "## 1. ABOD (Angle-based Outlier Detection)"
   ]
  },
  {
   "cell_type": "code",
   "execution_count": 53,
   "id": "e1d41f25",
   "metadata": {},
   "outputs": [
    {
     "name": "stdout",
     "output_type": "stream",
     "text": [
      "IMPLEMENTASI ABOD (Angle-based Outlier Detection)\n"
     ]
    },
    {
     "data": {
      "text/html": [],
      "text/plain": [
       "<IPython.core.display.HTML object>"
      ]
     },
     "metadata": {},
     "output_type": "display_data"
    },
    {
     "data": {
      "text/html": [],
      "text/plain": [
       "<IPython.core.display.HTML object>"
      ]
     },
     "metadata": {},
     "output_type": "display_data"
    },
    {
     "data": {
      "text/html": [],
      "text/plain": [
       "<IPython.core.display.HTML object>"
      ]
     },
     "metadata": {},
     "output_type": "display_data"
    },
    {
     "name": "stdout",
     "output_type": "stream",
     "text": [
      "ABOD model berhasil dibuat!\n",
      "\n",
      "Hasil ABOD:\n",
      "Shape: (150, 6)\n",
      "Columns: ['SepalLengthCm', 'SepalWidthCm', 'PetalLengthCm', 'PetalWidthCm', 'Anomaly', 'Anomaly_Score']\n",
      "\n",
      "Distribusi Anomaly ABOD:\n",
      "Anomaly\n",
      "0    135\n",
      "1     15\n",
      "Name: count, dtype: int64\n",
      "Percentage of outliers: 10.00%\n",
      "\n",
      "Top 5 Outliers (ABOD):\n",
      "     SepalLengthCm  SepalWidthCm  PetalLengthCm  PetalWidthCm  Anomaly_Score\n",
      "106            4.9           2.5            4.5           1.7      -0.050388\n",
      "108            6.7           2.5            5.8           1.8      -0.084224\n",
      "41             4.5           2.3            1.3           0.3      -0.088998\n",
      "117            7.7           3.8            6.7           2.2      -0.129286\n",
      "131            7.9           3.8            6.4           2.0      -0.137417\n"
     ]
    }
   ],
   "source": [
    "print(\"IMPLEMENTASI ABOD (Angle-based Outlier Detection)\")\n",
    "\n",
    "# Create ABOD model\n",
    "abod_model = create_model('abod', fraction=0.1)  # 10% data dianggap outlier\n",
    "print(\"ABOD model berhasil dibuat!\")\n",
    "\n",
    "# Assign anomaly scores dan labels\n",
    "abod_results = assign_model(abod_model)\n",
    "print(f\"\\nHasil ABOD:\")\n",
    "print(f\"Shape: {abod_results.shape}\")\n",
    "print(f\"Columns: {list(abod_results.columns)}\")\n",
    "\n",
    "# Lihat distribusi anomaly\n",
    "print(f\"\\nDistribusi Anomaly ABOD:\")\n",
    "print(abod_results['Anomaly'].value_counts())\n",
    "print(f\"Percentage of outliers: {(abod_results['Anomaly'] == 1).sum() / len(abod_results) * 100:.2f}%\")\n",
    "\n",
    "# Lihat outliers dengan anomaly score tertinggi\n",
    "abod_outliers = abod_results[abod_results['Anomaly'] == 1].sort_values('Anomaly_Score', ascending=False)\n",
    "print(f\"\\nTop 5 Outliers (ABOD):\")\n",
    "print(abod_outliers[['SepalLengthCm', 'SepalWidthCm', 'PetalLengthCm', 'PetalWidthCm', 'Anomaly_Score']].head())"
   ]
  },
  {
   "cell_type": "markdown",
   "id": "c75e0a6a",
   "metadata": {},
   "source": [
    "## 2. KNN (K-Nearest Neighbors) untuk Outlier Detection"
   ]
  },
  {
   "cell_type": "code",
   "execution_count": 54,
   "id": "f81d1851",
   "metadata": {},
   "outputs": [
    {
     "name": "stdout",
     "output_type": "stream",
     "text": [
      "IMPLEMENTASI KNN untuk Outlier Detection\n"
     ]
    },
    {
     "data": {
      "text/html": [],
      "text/plain": [
       "<IPython.core.display.HTML object>"
      ]
     },
     "metadata": {},
     "output_type": "display_data"
    },
    {
     "data": {
      "text/html": [],
      "text/plain": [
       "<IPython.core.display.HTML object>"
      ]
     },
     "metadata": {},
     "output_type": "display_data"
    },
    {
     "data": {
      "text/html": [],
      "text/plain": [
       "<IPython.core.display.HTML object>"
      ]
     },
     "metadata": {},
     "output_type": "display_data"
    },
    {
     "name": "stdout",
     "output_type": "stream",
     "text": [
      "KNN model berhasil dibuat!\n",
      "\n",
      "Hasil KNN:\n",
      "Shape: (150, 6)\n",
      "\n",
      "Distribusi Anomaly KNN:\n",
      "Anomaly\n",
      "0    135\n",
      "1     15\n",
      "Name: count, dtype: int64\n",
      "Percentage of outliers: 10.00%\n",
      "\n",
      "Top 5 Outliers (KNN):\n",
      "     SepalLengthCm  SepalWidthCm  PetalLengthCm  PetalWidthCm  Anomaly_Score\n",
      "131            7.9           3.8            6.4           2.0       1.024695\n",
      "117            7.7           3.8            6.7           2.2       1.019804\n",
      "118            7.7           2.6            6.9           2.3       0.964365\n",
      "106            4.9           2.5            4.5           1.7       0.883176\n",
      "98             5.1           2.5            3.0           1.1       0.818535\n"
     ]
    }
   ],
   "source": [
    "print(\"IMPLEMENTASI KNN untuk Outlier Detection\")\n",
    "\n",
    "# Create KNN model\n",
    "knn_model = create_model('knn', fraction=0.1)  # 10% data dianggap outlier\n",
    "print(\"KNN model berhasil dibuat!\")\n",
    "\n",
    "# Assign anomaly scores dan labels\n",
    "knn_results = assign_model(knn_model)\n",
    "print(f\"\\nHasil KNN:\")\n",
    "print(f\"Shape: {knn_results.shape}\")\n",
    "\n",
    "# Lihat distribusi anomaly\n",
    "print(f\"\\nDistribusi Anomaly KNN:\")\n",
    "print(knn_results['Anomaly'].value_counts())\n",
    "print(f\"Percentage of outliers: {(knn_results['Anomaly'] == 1).sum() / len(knn_results) * 100:.2f}%\")\n",
    "\n",
    "# Lihat outliers dengan anomaly score tertinggi\n",
    "knn_outliers = knn_results[knn_results['Anomaly'] == 1].sort_values('Anomaly_Score', ascending=False)\n",
    "print(f\"\\nTop 5 Outliers (KNN):\")\n",
    "print(knn_outliers[['SepalLengthCm', 'SepalWidthCm', 'PetalLengthCm', 'PetalWidthCm', 'Anomaly_Score']].head())"
   ]
  },
  {
   "cell_type": "markdown",
   "id": "4fe58bb5",
   "metadata": {},
   "source": [
    "## 3. LOF (Local Outlier Factor) untuk Outlier Detection"
   ]
  },
  {
   "cell_type": "code",
   "execution_count": 55,
   "id": "8705f5cd",
   "metadata": {},
   "outputs": [
    {
     "name": "stdout",
     "output_type": "stream",
     "text": [
      "IMPLEMENTASI LOF (Local Outlier Factor)\n"
     ]
    },
    {
     "data": {
      "text/html": [],
      "text/plain": [
       "<IPython.core.display.HTML object>"
      ]
     },
     "metadata": {},
     "output_type": "display_data"
    },
    {
     "data": {
      "text/html": [],
      "text/plain": [
       "<IPython.core.display.HTML object>"
      ]
     },
     "metadata": {},
     "output_type": "display_data"
    },
    {
     "data": {
      "text/html": [],
      "text/plain": [
       "<IPython.core.display.HTML object>"
      ]
     },
     "metadata": {},
     "output_type": "display_data"
    },
    {
     "name": "stdout",
     "output_type": "stream",
     "text": [
      "LOF model berhasil dibuat!\n",
      "\n",
      "Hasil LOF:\n",
      "Shape: (150, 6)\n",
      "\n",
      "Distribusi Anomaly LOF:\n",
      "Anomaly\n",
      "0    135\n",
      "1     15\n",
      "Name: count, dtype: int64\n",
      "Percentage of outliers: 10.00%\n",
      "\n",
      "Top 5 Outliers (LOF):\n",
      "     SepalLengthCm  SepalWidthCm  PetalLengthCm  PetalWidthCm  Anomaly_Score\n",
      "41             4.5           2.3            1.3           0.3       1.777233\n",
      "15             5.7           4.4            1.5           0.4       1.653626\n",
      "118            7.7           2.6            6.9           2.3       1.624653\n",
      "117            7.7           3.8            6.7           2.2       1.572990\n",
      "131            7.9           3.8            6.4           2.0       1.547288\n"
     ]
    }
   ],
   "source": [
    "print(\"IMPLEMENTASI LOF (Local Outlier Factor)\")\n",
    "\n",
    "# Create LOF model\n",
    "lof_model = create_model('lof', fraction=0.1)  # 10% data dianggap outlier\n",
    "print(\"LOF model berhasil dibuat!\")\n",
    "\n",
    "# Assign anomaly scores dan labels\n",
    "lof_results = assign_model(lof_model)\n",
    "print(f\"\\nHasil LOF:\")\n",
    "print(f\"Shape: {lof_results.shape}\")\n",
    "\n",
    "# Lihat distribusi anomaly\n",
    "print(f\"\\nDistribusi Anomaly LOF:\")\n",
    "print(lof_results['Anomaly'].value_counts())\n",
    "print(f\"Percentage of outliers: {(lof_results['Anomaly'] == 1).sum() / len(lof_results) * 100:.2f}%\")\n",
    "\n",
    "# Lihat outliers dengan anomaly score tertinggi\n",
    "lof_outliers = lof_results[lof_results['Anomaly'] == 1].sort_values('Anomaly_Score', ascending=False)\n",
    "print(f\"\\nTop 5 Outliers (LOF):\")\n",
    "print(lof_outliers[['SepalLengthCm', 'SepalWidthCm', 'PetalLengthCm', 'PetalWidthCm', 'Anomaly_Score']].head())"
   ]
  },
  {
   "cell_type": "markdown",
   "id": "24f5c939",
   "metadata": {},
   "source": [
    "## Identifikasi dan Hapus 2 Outliers Teratas dari Setiap Algoritma"
   ]
  },
  {
   "cell_type": "code",
   "execution_count": 56,
   "id": "1811ee8f",
   "metadata": {},
   "outputs": [
    {
     "name": "stdout",
     "output_type": "stream",
     "text": [
      "IDENTIFIKASI DAN PENGHAPUSAN 2 OUTLIERS TERATAS\n",
      "\n",
      "1. Top 2 Outliers dari ABOD:\n",
      "Indices: [106, 108]\n",
      "     SepalLengthCm  SepalWidthCm  PetalLengthCm  PetalWidthCm  Anomaly_Score\n",
      "106            4.9           2.5            4.5           1.7      -0.050388\n",
      "108            6.7           2.5            5.8           1.8      -0.084224\n",
      "\n",
      "2. Top 2 Outliers dari KNN:\n",
      "Indices: [131, 117]\n",
      "     SepalLengthCm  SepalWidthCm  PetalLengthCm  PetalWidthCm  Anomaly_Score\n",
      "131            7.9           3.8            6.4           2.0       1.024695\n",
      "117            7.7           3.8            6.7           2.2       1.019804\n",
      "\n",
      "3. Top 2 Outliers dari LOF:\n",
      "Indices: [41, 15]\n",
      "    SepalLengthCm  SepalWidthCm  PetalLengthCm  PetalWidthCm  Anomaly_Score\n",
      "41            4.5           2.3            1.3           0.3       1.777233\n",
      "15            5.7           4.4            1.5           0.4       1.653626\n"
     ]
    }
   ],
   "source": [
    "print(\"IDENTIFIKASI DAN PENGHAPUSAN 2 OUTLIERS TERATAS\")\n",
    "\n",
    "# Simpan hasil dari setiap algoritma dengan index asli\n",
    "abod_results_indexed = abod_results.copy()\n",
    "abod_results_indexed.index = df.index\n",
    "\n",
    "knn_results_indexed = knn_results.copy()\n",
    "knn_results_indexed.index = df.index\n",
    "\n",
    "lof_results_indexed = lof_results.copy()\n",
    "lof_results_indexed.index = df.index\n",
    "\n",
    "# Identifikasi 2 outliers teratas dari setiap algoritma\n",
    "print(\"\\n1. Top 2 Outliers dari ABOD:\")\n",
    "top2_abod = abod_results_indexed[abod_results_indexed['Anomaly'] == 1].nlargest(2, 'Anomaly_Score')\n",
    "top2_abod_indices = top2_abod.index.tolist()\n",
    "print(f\"Indices: {top2_abod_indices}\")\n",
    "print(top2_abod[['SepalLengthCm', 'SepalWidthCm', 'PetalLengthCm', 'PetalWidthCm', 'Anomaly_Score']])\n",
    "\n",
    "print(\"\\n2. Top 2 Outliers dari KNN:\")\n",
    "top2_knn = knn_results_indexed[knn_results_indexed['Anomaly'] == 1].nlargest(2, 'Anomaly_Score')\n",
    "top2_knn_indices = top2_knn.index.tolist()\n",
    "print(f\"Indices: {top2_knn_indices}\")\n",
    "print(top2_knn[['SepalLengthCm', 'SepalWidthCm', 'PetalLengthCm', 'PetalWidthCm', 'Anomaly_Score']])\n",
    "\n",
    "print(\"\\n3. Top 2 Outliers dari LOF:\")\n",
    "top2_lof = lof_results_indexed[lof_results_indexed['Anomaly'] == 1].nlargest(2, 'Anomaly_Score')\n",
    "top2_lof_indices = top2_lof.index.tolist()\n",
    "print(f\"Indices: {top2_lof_indices}\")\n",
    "print(top2_lof[['SepalLengthCm', 'SepalWidthCm', 'PetalLengthCm', 'PetalWidthCm', 'Anomaly_Score']])"
   ]
  },
  {
   "cell_type": "code",
   "execution_count": 57,
   "id": "184320e2",
   "metadata": {},
   "outputs": [
    {
     "name": "stdout",
     "output_type": "stream",
     "text": [
      "\n",
      "4. Semua indeks outliers yang akan dihapus: [15, 41, 106, 108, 117, 131]\n",
      "Total outliers unik yang akan dihapus: 6\n",
      "\n",
      "Dataset sebelum pembersihan: (150, 6)\n",
      "Dataset setelah pembersihan: (144, 6)\n",
      "Jumlah data yang dihapus: 6\n",
      "\n",
      "5. Detail Outliers yang Dihapus:\n",
      "      Id  SepalLengthCm  SepalWidthCm  PetalLengthCm  PetalWidthCm  \\\n",
      "15    16            5.7           4.4            1.5           0.4   \n",
      "41    42            4.5           2.3            1.3           0.3   \n",
      "106  107            4.9           2.5            4.5           1.7   \n",
      "108  109            6.7           2.5            5.8           1.8   \n",
      "117  118            7.7           3.8            6.7           2.2   \n",
      "131  132            7.9           3.8            6.4           2.0   \n",
      "\n",
      "            Species  \n",
      "15      Iris-setosa  \n",
      "41      Iris-setosa  \n",
      "106  Iris-virginica  \n",
      "108  Iris-virginica  \n",
      "117  Iris-virginica  \n",
      "131  Iris-virginica  \n",
      "\n",
      "6. Statistik Dataset Setelah Pembersihan:\n",
      "       SepalLengthCm  SepalWidthCm  PetalLengthCm  PetalWidthCm\n",
      "count     144.000000    144.000000     144.000000    144.000000\n",
      "mean        5.827083      3.047222       3.733333      1.190278\n",
      "std         0.797743      0.408809       1.738660      0.762157\n",
      "min         4.300000      2.000000       1.000000      0.100000\n",
      "25%         5.100000      2.800000       1.600000      0.300000\n",
      "50%         5.800000      3.000000       4.300000      1.300000\n",
      "75%         6.400000      3.300000       5.100000      1.800000\n",
      "max         7.700000      4.200000       6.900000      2.500000\n"
     ]
    }
   ],
   "source": [
    "# Gabungkan semua indeks outliers yang akan dihapus\n",
    "all_outlier_indices = list(set(top2_abod_indices + top2_knn_indices + top2_lof_indices))\n",
    "print(f\"\\n4. Semua indeks outliers yang akan dihapus: {sorted(all_outlier_indices)}\")\n",
    "print(f\"Total outliers unik yang akan dihapus: {len(all_outlier_indices)}\")\n",
    "\n",
    "# Hapus outliers dari dataset asli\n",
    "df_cleaned = df.drop(all_outlier_indices).reset_index(drop=True)\n",
    "print(f\"\\nDataset sebelum pembersihan: {df.shape}\")\n",
    "print(f\"Dataset setelah pembersihan: {df_cleaned.shape}\")\n",
    "print(f\"Jumlah data yang dihapus: {len(all_outlier_indices)}\")\n",
    "\n",
    "# Tampilkan informasi outliers yang dihapus\n",
    "print(f\"\\n5. Detail Outliers yang Dihapus:\")\n",
    "outliers_removed = df.loc[all_outlier_indices].copy()\n",
    "outliers_removed = outliers_removed.sort_index()\n",
    "print(outliers_removed)\n",
    "\n",
    "# Tampilkan statistik dataset setelah pembersihan\n",
    "df_cleaned_numeric = df_cleaned.drop(['Id', 'Species'], axis=1)\n",
    "print(f\"\\n6. Statistik Dataset Setelah Pembersihan:\")\n",
    "print(df_cleaned_numeric.describe())"
   ]
  }
 ],
 "metadata": {
  "kernelspec": {
   "display_name": "psd",
   "language": "python",
   "name": "python3"
  },
  "language_info": {
   "codemirror_mode": {
    "name": "ipython",
    "version": 3
   },
   "file_extension": ".py",
   "mimetype": "text/x-python",
   "name": "python",
   "nbconvert_exporter": "python",
   "pygments_lexer": "ipython3",
   "version": "3.11.13"
  }
 },
 "nbformat": 4,
 "nbformat_minor": 5
}
