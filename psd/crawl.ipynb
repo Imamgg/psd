{
 "cells": [
  {
   "cell_type": "markdown",
   "id": "cbe52a7c",
   "metadata": {},
   "source": [
    "# Data Crawling NO2\n",
    "\n",
    "Proses ini digunakan untuk mengunduh dan memproses data NO2 (Nitrogen Dioxide) dari satelit Sentinel-5P menggunakan OpenEO API."
   ]
  },
  {
   "cell_type": "markdown",
   "id": "e4b2f10d",
   "metadata": {},
   "source": [
    "Import library dan koneksi ke Copernicus Data Space Ecosystem"
   ]
  },
  {
   "cell_type": "code",
   "execution_count": 1,
   "id": "e1d8b6c3",
   "metadata": {},
   "outputs": [
    {
     "name": "stdout",
     "output_type": "stream",
     "text": [
      "Authenticated using refresh token.\n",
      "Connected to Copernicus Data Space Ecosystem\n"
     ]
    }
   ],
   "source": [
    "import openeo\n",
    "import pandas as pd\n",
    "import numpy as np\n",
    "from datetime import datetime, timedelta\n",
    "import xarray as xr\n",
    "\n",
    "connection = openeo.connect(\"openeo.dataspace.copernicus.eu\").authenticate_oidc()\n",
    "print(\"Connected to Copernicus Data Space Ecosystem\")"
   ]
  },
  {
   "cell_type": "markdown",
   "id": "7283c141",
   "metadata": {},
   "source": [
    "Definisi Area of Interest (AOI) wilayah Sampang dan parameter waktu (2021-2025)"
   ]
  },
  {
   "cell_type": "code",
   "execution_count": 2,
   "id": "cc65d778",
   "metadata": {},
   "outputs": [
    {
     "name": "stdout",
     "output_type": "stream",
     "text": [
      "AOI defined for coordinates: {'west': 113.21596949524894, 'south': -7.212778923646425, 'east': 113.29495729344416, 'north': -7.164956617756133}\n",
      "Time range: 2021-01-01 to 2025-10-19\n",
      "Setup completed successfully\n"
     ]
    }
   ],
   "source": [
    "aoi = {\n",
    "  \"type\": \"FeatureCollection\",\n",
    "  \"features\": [\n",
    "    {\n",
    "      \"type\": \"Feature\",\n",
    "      \"properties\": {},\n",
    "      \"geometry\": {\n",
    "        \"coordinates\": [\n",
    "          [\n",
    "            [\n",
    "              113.21596949524894,\n",
    "              -7.164956617756133\n",
    "            ],\n",
    "            [\n",
    "              113.21596949524894,\n",
    "              -7.212778923646425\n",
    "            ],\n",
    "            [\n",
    "              113.29495729344416,\n",
    "              -7.212778923646425\n",
    "            ],\n",
    "            [\n",
    "              113.29495729344416,\n",
    "              -7.164956617756133\n",
    "            ],\n",
    "            [\n",
    "              113.21596949524894,\n",
    "              -7.164956617756133\n",
    "            ]\n",
    "          ]\n",
    "        ],\n",
    "        \"type\": \"Polygon\"\n",
    "      }\n",
    "    }\n",
    "  ]\n",
    "}\n",
    "\n",
    "# Definisi extent spasial dari koordinat AOI\n",
    "spatial_extent = {\n",
    "    \"west\": 113.21596949524894,\n",
    "    \"south\": -7.212778923646425,\n",
    "    \"east\": 113.29495729344416,\n",
    "    \"north\": -7.164956617756133\n",
    "}\n",
    "\n",
    "start_date = \"2021-01-01\"\n",
    "end_date = \"2025-10-19\"\n",
    "\n",
    "print(f\"AOI defined for coordinates: {spatial_extent}\")\n",
    "print(f\"Time range: {start_date} to {end_date}\")\n",
    "print(\"Setup completed successfully\")"
   ]
  },
  {
   "cell_type": "markdown",
   "id": "440ccdd7",
   "metadata": {},
   "source": [
    "Loading data Sentinel-5P NO2 dan agregasi temporal harian"
   ]
  },
  {
   "cell_type": "code",
   "execution_count": 3,
   "id": "70a34dd0",
   "metadata": {},
   "outputs": [
    {
     "name": "stdout",
     "output_type": "stream",
     "text": [
      "Loading Sentinel-5P NO2 data...\n",
      "Data collection and aggregation configured successfully\n"
     ]
    }
   ],
   "source": [
    "print(\"Loading Sentinel-5P NO2 data...\")\n",
    "\n",
    "s5p_no2 = connection.load_collection(\n",
    "    \"SENTINEL_5P_L2\",\n",
    "    temporal_extent=[start_date, end_date],\n",
    "    spatial_extent=spatial_extent,\n",
    "    bands=[\"NO2\"],\n",
    ")\n",
    "\n",
    "s5p_monthly = s5p_no2.aggregate_temporal_period(\n",
    "    period=\"day\",\n",
    "    reducer=\"mean\"\n",
    ")\n",
    "\n",
    "print(\"Data collection and aggregation configured successfully\")"
   ]
  },
  {
   "cell_type": "markdown",
   "id": "2398da4d",
   "metadata": {},
   "source": [
    "Eksekusi job batch processing dan export ke file NetCDF"
   ]
  },
  {
   "cell_type": "code",
   "execution_count": 4,
   "id": "004f2a51",
   "metadata": {},
   "outputs": [
    {
     "name": "stdout",
     "output_type": "stream",
     "text": [
      "Starting data processing job...\n",
      "0:00:00 Job 'j-25102801365948468b6de79899098335': send 'start'\n",
      "0:00:13 Job 'j-25102801365948468b6de79899098335': queued (progress 0%)\n",
      "0:00:19 Job 'j-25102801365948468b6de79899098335': queued (progress 0%)\n",
      "0:00:25 Job 'j-25102801365948468b6de79899098335': queued (progress 0%)\n",
      "0:00:34 Job 'j-25102801365948468b6de79899098335': queued (progress 0%)\n",
      "0:00:44 Job 'j-25102801365948468b6de79899098335': queued (progress 0%)\n",
      "0:00:56 Job 'j-25102801365948468b6de79899098335': queued (progress 0%)\n",
      "0:01:12 Job 'j-25102801365948468b6de79899098335': running (progress N/A)\n",
      "0:01:32 Job 'j-25102801365948468b6de79899098335': running (progress N/A)\n",
      "0:01:56 Job 'j-25102801365948468b6de79899098335': running (progress N/A)\n",
      "0:02:26 Job 'j-25102801365948468b6de79899098335': running (progress N/A)\n",
      "0:03:04 Job 'j-25102801365948468b6de79899098335': running (progress N/A)\n",
      "0:03:51 Job 'j-25102801365948468b6de79899098335': running (progress N/A)\n",
      "0:04:49 Job 'j-25102801365948468b6de79899098335': running (progress N/A)\n",
      "0:05:50 Job 'j-25102801365948468b6de79899098335': running (progress N/A)\n",
      "0:06:50 Job 'j-25102801365948468b6de79899098335': running (progress N/A)\n",
      "0:07:50 Job 'j-25102801365948468b6de79899098335': running (progress N/A)\n",
      "0:08:51 Job 'j-25102801365948468b6de79899098335': running (progress N/A)\n",
      "0:09:51 Job 'j-25102801365948468b6de79899098335': running (progress N/A)\n",
      "0:10:51 Job 'j-25102801365948468b6de79899098335': running (progress N/A)\n",
      "0:11:52 Job 'j-25102801365948468b6de79899098335': running (progress N/A)\n",
      "0:12:52 Job 'j-25102801365948468b6de79899098335': running (progress N/A)\n",
      "0:13:52 Job 'j-25102801365948468b6de79899098335': running (progress N/A)\n",
      "0:14:53 Job 'j-25102801365948468b6de79899098335': running (progress N/A)\n",
      "0:15:53 Job 'j-25102801365948468b6de79899098335': running (progress N/A)\n",
      "0:16:54 Job 'j-25102801365948468b6de79899098335': running (progress N/A)\n",
      "0:17:54 Job 'j-25102801365948468b6de79899098335': running (progress N/A)\n",
      "0:18:55 Job 'j-25102801365948468b6de79899098335': running (progress N/A)\n",
      "0:19:55 Job 'j-25102801365948468b6de79899098335': running (progress N/A)\n",
      "0:20:56 Job 'j-25102801365948468b6de79899098335': finished (progress 100%)\n"
     ]
    }
   ],
   "source": [
    "print(\"Starting data processing job...\")\n",
    "\n",
    "job = s5p_monthly.execute_batch(\n",
    "    title=\"NO2 Averages 2021-2025\", \n",
    "    outputfile=\"no2_sampang_4years.nc\"\n",
    ")"
   ]
  },
  {
   "cell_type": "markdown",
   "id": "b65a024c",
   "metadata": {},
   "source": [
    "Membaca file NetCDF dan mengkonversi ke CSV"
   ]
  },
  {
   "cell_type": "code",
   "execution_count": 8,
   "id": "2b0ef8c6",
   "metadata": {},
   "outputs": [
    {
     "name": "stdout",
     "output_type": "stream",
     "text": [
      "Membaca file no2_sampang_4years.nc...\n",
      "Struktur dataset:\n",
      "<xarray.Dataset> Size: 42kB\n",
      "Dimensions:  (t: 1729, x: 2, y: 2)\n",
      "Coordinates:\n",
      "  * t        (t) datetime64[ns] 14kB 2021-01-01 2021-01-02 ... 2025-10-18\n",
      "  * x        (x) float64 16B 113.2 113.3\n",
      "  * y        (y) float64 16B -7.182 -7.217\n",
      "Data variables:\n",
      "    crs      |S1 1B ...\n",
      "    NO2      (t, y, x) float32 28kB ...\n",
      "Attributes:\n",
      "    Conventions:  CF-1.9\n",
      "    institution:  Copernicus Data Space Ecosystem openEO API - 0.68.0a10.dev2...\n",
      "    description:  \n",
      "    title:        \n",
      "\n",
      "Variabel yang tersedia:\n",
      "['crs', 'NO2']\n",
      "\n",
      "Dimensi:\n",
      "FrozenMappingWarningOnValuesAccess({'t': 1729, 'x': 2, 'y': 2})\n",
      "\n",
      "Mengkonversi ke DataFrame...\n",
      "\n",
      "Total baris data: 6916\n",
      "\n",
      "Preview data:\n",
      "           t  NO2\n",
      "0 2021-01-01  nan\n",
      "1 2021-01-01  nan\n",
      "2 2021-01-01  nan\n",
      "3 2021-01-01  nan\n",
      "4 2021-01-02  nan\n",
      "\n",
      "Rentang waktu: 2021-01-01 00:00:00 hingga 2025-10-18 00:00:00\n",
      "\n",
      "Data berhasil disimpan ke dataset/NO2_sampang.csv\n"
     ]
    }
   ],
   "source": [
    "import xarray as xr\n",
    "import pandas as pd\n",
    "import numpy as np\n",
    "\n",
    "print(\"Membaca file no2_sampang_4years.nc...\")\n",
    "ds = xr.open_dataset(\"./dataset/no2_sampang_4years.nc\")\n",
    "\n",
    "print(\"Struktur dataset:\")\n",
    "print(ds)\n",
    "print(\"\\nVariabel yang tersedia:\")\n",
    "print(list(ds.data_vars))\n",
    "print(\"\\nDimensi:\")\n",
    "print(ds.dims)\n",
    "\n",
    "print(\"\\nMengkonversi ke DataFrame...\")\n",
    "\n",
    "df_list = []\n",
    "\n",
    "for time_idx in range(len(ds.t)):\n",
    "    time_val = pd.to_datetime(ds.t[time_idx].values)\n",
    "\n",
    "    no2_data = ds[\"NO2\"].isel(t=time_idx)\n",
    "\n",
    "    for y_idx in range(len(ds.y)):\n",
    "        for x_idx in range(len(ds.x)):\n",
    "            lat = ds.y[y_idx].values\n",
    "            lon = ds.x[x_idx].values\n",
    "            no2_value = no2_data.isel(y=y_idx, x=x_idx).values\n",
    "\n",
    "            df_list.append(\n",
    "                {\"t\": time_val, \"NO2\": no2_value}\n",
    "            )\n",
    "\n",
    "df = pd.DataFrame(df_list)\n",
    "\n",
    "print(f\"\\nTotal baris data: {len(df)}\")\n",
    "print(\"\\nPreview data:\")\n",
    "print(df.head(5))\n",
    "print(f\"\\nRentang waktu: {df['t'].min()} hingga {df['t'].max()}\")\n",
    "\n",
    "output_file = \"dataset/NO2_sampang.csv\"\n",
    "df.to_csv(output_file, index=False)\n",
    "print(f\"\\nData berhasil disimpan ke {output_file}\")"
   ]
  }
 ],
 "metadata": {
  "kernelspec": {
   "display_name": "ml",
   "language": "python",
   "name": "python3"
  },
  "language_info": {
   "codemirror_mode": {
    "name": "ipython",
    "version": 3
   },
   "file_extension": ".py",
   "mimetype": "text/x-python",
   "name": "python",
   "nbconvert_exporter": "python",
   "pygments_lexer": "ipython3",
   "version": "3.10.18"
  }
 },
 "nbformat": 4,
 "nbformat_minor": 5
}
