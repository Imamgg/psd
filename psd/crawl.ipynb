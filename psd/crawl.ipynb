{
 "cells": [
  {
   "cell_type": "markdown",
   "id": "cbe52a7c",
   "metadata": {},
   "source": [
    "# Data Crawling NO2\n",
    "\n",
    "Proses ini digunakan untuk mengunduh dan memproses data NO2 (Nitrogen Dioxide) dari satelit Sentinel-5P menggunakan OpenEO API."
   ]
  },
  {
   "cell_type": "markdown",
   "id": "e4b2f10d",
   "metadata": {},
   "source": [
    "Import library dan koneksi ke Copernicus Data Space Ecosystem"
   ]
  },
  {
   "cell_type": "code",
   "execution_count": null,
   "id": "e1d8b6c3",
   "metadata": {},
   "outputs": [],
   "source": [
    "import openeo\n",
    "import pandas as pd\n",
    "import numpy as np\n",
    "from datetime import datetime, timedelta\n",
    "import xarray as xr\n",
    "\n",
    "connection = openeo.connect(\"openeo.dataspace.copernicus.eu\").authenticate_oidc()\n",
    "print(\"Connected to Copernicus Data Space Ecosystem\")"
   ]
  },
  {
   "cell_type": "markdown",
   "id": "7283c141",
   "metadata": {},
   "source": [
    "Definisi Area of Interest (AOI) wilayah Sampang dan parameter waktu (2021-2025)"
   ]
  },
  {
   "cell_type": "code",
   "execution_count": null,
   "id": "cc65d778",
   "metadata": {},
   "outputs": [],
   "source": [
    "aoi = {\n",
    "  \"type\": \"FeatureCollection\",\n",
    "  \"features\": [\n",
    "    {\n",
    "      \"type\": \"Feature\",\n",
    "      \"properties\": {},\n",
    "      \"geometry\": {\n",
    "        \"coordinates\": [\n",
    "          [\n",
    "            [\n",
    "              113.23789711828073,\n",
    "              -7.185910697549147\n",
    "            ],\n",
    "            [\n",
    "              113.23789711828073,\n",
    "              -7.207774079752852\n",
    "            ],\n",
    "            [\n",
    "              113.26271944187818,\n",
    "              -7.207774079752852\n",
    "            ],\n",
    "            [\n",
    "              113.26271944187818,\n",
    "              -7.185910697549147\n",
    "            ],\n",
    "            [\n",
    "              113.23789711828073,\n",
    "              -7.185910697549147\n",
    "            ]\n",
    "          ]\n",
    "        ],\n",
    "        \"type\": \"Polygon\"\n",
    "      }\n",
    "    }\n",
    "  ]\n",
    "}\n",
    "\n",
    "# Definisi extent spasial dari koordinat AOI\n",
    "spatial_extent = {\n",
    "    \"west\": 113.23789711828073,\n",
    "    \"south\": -7.207774079752852,\n",
    "    \"east\": 113.26271944187818,\n",
    "    \"north\": -7.185910697549147\n",
    "}\n",
    "\n",
    "start_date = \"2021-01-01\"\n",
    "end_date = \"2025-10-19\"\n",
    "\n",
    "print(f\"AOI defined for coordinates: {spatial_extent}\")\n",
    "print(f\"Time range: {start_date} to {end_date}\")\n",
    "print(\"Setup completed successfully\")"
   ]
  },
  {
   "cell_type": "markdown",
   "id": "440ccdd7",
   "metadata": {},
   "source": [
    "Loading data Sentinel-5P NO2 dan agregasi temporal harian"
   ]
  },
  {
   "cell_type": "code",
   "execution_count": null,
   "id": "70a34dd0",
   "metadata": {},
   "outputs": [],
   "source": [
    "print(\"Loading Sentinel-5P NO2 data...\")\n",
    "\n",
    "s5p_no2 = connection.load_collection(\n",
    "    \"SENTINEL_5P_L2\",\n",
    "    temporal_extent=[start_date, end_date],\n",
    "    spatial_extent=spatial_extent,\n",
    "    bands=[\"NO2\"],\n",
    ")\n",
    "\n",
    "s5p_monthly = s5p_no2.aggregate_temporal_period(\n",
    "    period=\"day\",\n",
    "    reducer=\"mean\"\n",
    ")\n",
    "\n",
    "print(\"Data collection and aggregation configured successfully\")"
   ]
  },
  {
   "cell_type": "markdown",
   "id": "2398da4d",
   "metadata": {},
   "source": [
    "Eksekusi job batch processing dan export ke file NetCDF"
   ]
  },
  {
   "cell_type": "code",
   "execution_count": null,
   "id": "004f2a51",
   "metadata": {},
   "outputs": [],
   "source": [
    "print(\"Starting data processing job...\")\n",
    "\n",
    "job = s5p_monthly.execute_batch(\n",
    "    title=\"NO2 Averages 2021-2025\", \n",
    "    outputfile=\"no2_averages_4years.nc\"\n",
    ")"
   ]
  }
 ],
 "metadata": {
  "kernelspec": {
   "display_name": "ml",
   "language": "python",
   "name": "python3"
  },
  "language_info": {
   "codemirror_mode": {
    "name": "ipython",
    "version": 3
   },
   "file_extension": ".py",
   "mimetype": "text/x-python",
   "name": "python",
   "nbconvert_exporter": "python",
   "pygments_lexer": "ipython3",
   "version": "3.10.18"
  }
 },
 "nbformat": 4,
 "nbformat_minor": 5
}
